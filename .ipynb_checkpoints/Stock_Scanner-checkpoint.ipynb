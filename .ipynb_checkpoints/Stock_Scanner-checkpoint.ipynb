{
 "cells": [
  {
   "cell_type": "markdown",
   "metadata": {},
   "source": [
    "# Stock Scraper Project"
   ]
  },
  {
   "cell_type": "markdown",
   "metadata": {},
   "source": [
    "## Here is a fun project go scrape the Fortune 500 Stocks and info and see what info we can get from them "
   ]
  },
  {
   "cell_type": "code",
   "execution_count": 1,
   "metadata": {},
   "outputs": [],
   "source": [
    "import os\n",
    "import numpy as np\n",
    "import pandas as pd\n",
    "import requests\n",
    "from lxml import html\n",
    "from bs4 import BeautifulSoup\n",
    "from urllib.request import urlopen\n",
    "from collections import OrderedDict"
   ]
  },
  {
   "cell_type": "code",
   "execution_count": 2,
   "metadata": {},
   "outputs": [],
   "source": [
    "def getPrice(symbol):\n",
    "    url = 'https://finance.yahoo.com/quote/' + symbol + '?p=' + symbol + '&.tsrc=fin-srch'\n",
    "    page = urlopen(url)\n",
    "    soup = BeautifulSoup(page,'html.parser')\n",
    "    price = soup.find('div',{'class': 'My(6px) Pos(r) smartphone_Mt(6px)'}).find('span').text\n",
    "    return price"
   ]
  },
  {
   "cell_type": "code",
   "execution_count": 3,
   "metadata": {},
   "outputs": [],
   "source": [
    "def parseStock(symbol):\n",
    "    url = 'https://finance.yahoo.com/quote/' + symbol + '?p=' + symbol + '|&.tsrc=fin-srch'\n",
    "    try:\n",
    "        new_page = urlopen(url)\n",
    "    except:\n",
    "        print(\"Error opening the URL\")\n",
    "        return\n",
    "        \n",
    "    soup = BeautifulSoup(new_page,'html.parser')\n",
    "    data = soup.find_all(\"tbody\")\n",
    "    \n",
    "    try:\n",
    "        table1 = data[0].find_all('tr')\n",
    "    except:\n",
    "         table1 = None\n",
    "         \n",
    "    try:\n",
    "         table2 = data[1].find_all('tr')\n",
    "    except:\n",
    "         table2 = None\n",
    "    u = {}\n",
    "    u['Name'] = symbol\n",
    "    u['Current Price'] = getPrice(symbol)\n",
    "    \n",
    "    for i in range(0,len(table1)):\n",
    "        try:\n",
    "            table1_td = table1[i].find_all('td')\n",
    "        except:\n",
    "            table1_td = None\n",
    "\n",
    "        u[table1_td[0].text] = table1_td[1].text\n",
    "        l={}\n",
    "    \n",
    "    for i in range(0,len(table2)):\n",
    "        try:\n",
    "            table2_td = table2[i].find_all('td')\n",
    "        except:\n",
    "            table2_td = None\n",
    "\n",
    "        u[table2_td[0].text] = table2_td[1].text\n",
    "        l = {}\n",
    "    return u"
   ]
  },
  {
   "cell_type": "code",
   "execution_count": 4,
   "metadata": {},
   "outputs": [],
   "source": [
    "u = parseStock('AAPL')"
   ]
  },
  {
   "cell_type": "code",
   "execution_count": 5,
   "metadata": {},
   "outputs": [
    {
     "data": {
      "text/plain": [
       "{'Name': 'AAPL',\n",
       " 'Current Price': '497.48',\n",
       " 'Previous Close': '473.10',\n",
       " 'Open': '477.05',\n",
       " 'Bid': '498.95 x 900',\n",
       " 'Ask': '498.97 x 1000',\n",
       " \"Day's Range\": '477.00 - 499.47',\n",
       " '52 Week Range': '201.00 - 499.47',\n",
       " 'Volume': '84,513,660',\n",
       " 'Avg. Volume': '36,780,934',\n",
       " 'Market Cap': '2.127T',\n",
       " 'Beta (5Y Monthly)': '1.23',\n",
       " 'PE Ratio (TTM)': '37.73',\n",
       " 'EPS (TTM)': '13.19',\n",
       " 'Earnings Date': 'Oct 28, 2020 - Nov 02, 2020',\n",
       " 'Forward Dividend & Yield': '3.28 (0.69%)',\n",
       " 'Ex-Dividend Date': 'Aug 07, 2020',\n",
       " '1y Target Est': '425.17'}"
      ]
     },
     "execution_count": 5,
     "metadata": {},
     "output_type": "execute_result"
    }
   ],
   "source": [
    "u"
   ]
  },
  {
   "cell_type": "code",
   "execution_count": 12,
   "metadata": {},
   "outputs": [],
   "source": [
    "def getRevenue(symbol, current = True):\n",
    "    fin_url = 'https://finance.yahoo.com/quote/' + symbol + '/financials?p=' + symbol\n",
    "    finPage = urlopen(fin_url)\n",
    "    finSoup = BeautifulSoup(finPage,'html.parser')\n",
    "    revenue = finSoup.find('div', \n",
    "                           {'class':\n",
    "                            \"Ta(c) Py(6px) Bxz(bb) BdB Bdc($seperatorColor) Miw(120px) Miw(140px)--pnclg Bgc($lv1BgColor) fi-row:h_Bgc($hoverBgColor) D(tbc)\"}\n",
    "                          ).find('span').text\n",
    "    num_revenue = float(revenue.replace(\",\", \"\"))\n",
    "    return num_revenue * 1000"
   ]
  },
  {
   "cell_type": "code",
   "execution_count": 14,
   "metadata": {},
   "outputs": [
    {
     "data": {
      "text/plain": [
       "25708000000.0"
      ]
     },
     "execution_count": 14,
     "metadata": {},
     "output_type": "execute_result"
    }
   ],
   "source": [
    "getRevenue('TSLA')"
   ]
  },
  {
   "cell_type": "code",
   "execution_count": null,
   "metadata": {},
   "outputs": [],
   "source": []
  }
 ],
 "metadata": {
  "kernelspec": {
   "display_name": "Python 3",
   "language": "python",
   "name": "python3"
  },
  "language_info": {
   "codemirror_mode": {
    "name": "ipython",
    "version": 3
   },
   "file_extension": ".py",
   "mimetype": "text/x-python",
   "name": "python",
   "nbconvert_exporter": "python",
   "pygments_lexer": "ipython3",
   "version": "3.7.7"
  }
 },
 "nbformat": 4,
 "nbformat_minor": 4
}
