{
 "cells": [
  {
   "cell_type": "markdown",
   "metadata": {},
   "source": [
    "# Stock Scraper Project"
   ]
  },
  {
   "cell_type": "markdown",
   "metadata": {},
   "source": [
    "## Here is a fun project go scrape the Fortune 500 Stocks and info and see what info we can get from them "
   ]
  },
  {
   "cell_type": "code",
   "execution_count": 1,
   "metadata": {},
   "outputs": [],
   "source": [
    "import os\n",
    "import numpy as np\n",
    "import pandas as pd\n",
    "import requests\n",
    "from lxml import html\n",
    "from bs4 import BeautifulSoup\n",
    "from urllib.request import urlopen\n",
    "from collections import OrderedDict"
   ]
  },
  {
   "cell_type": "code",
   "execution_count": 2,
   "metadata": {},
   "outputs": [],
   "source": [
    "def getPrice(symbol):\n",
    "    url = 'https://finance.yahoo.com/quote/' + symbol + '?p=' + symbol + '&.tsrc=fin-srch'\n",
    "    page = urlopen(url)\n",
    "    soup = BeautifulSoup(page,'html.parser')\n",
    "    price = soup.find('div',{'class': 'My(6px) Pos(r) smartphone_Mt(6px)'}).find('span').text\n",
    "    return price"
   ]
  },
  {
   "cell_type": "code",
   "execution_count": 3,
   "metadata": {},
   "outputs": [],
   "source": [
    "def parseStock(symbol):\n",
    "    url = 'https://finance.yahoo.com/quote/' + symbol + '?p=' + symbol + '|&.tsrc=fin-srch'\n",
    "    try:\n",
    "        new_page = urlopen(url)\n",
    "    except:\n",
    "        print(\"Error opening the URL\")\n",
    "        return\n",
    "        \n",
    "    soup = BeautifulSoup(new_page,'html.parser')\n",
    "    data = soup.find_all(\"tbody\")\n",
    "    \n",
    "    try:\n",
    "        table1 = data[0].find_all('tr')\n",
    "    except:\n",
    "         table1 = None\n",
    "         \n",
    "    try:\n",
    "         table2 = data[1].find_all('tr')\n",
    "    except:\n",
    "         table2 = None\n",
    "    u = {}\n",
    "    u['Name'] = symbol\n",
    "    u['Current Price'] = getPrice(symbol)\n",
    "    \n",
    "    for i in range(0,len(table1)):\n",
    "        try:\n",
    "            table1_td = table1[i].find_all('td')\n",
    "        except:\n",
    "            table1_td = None\n",
    "\n",
    "        u[table1_td[0].text] = table1_td[1].text\n",
    "        l={}\n",
    "    \n",
    "    for i in range(0,len(table2)):\n",
    "        try:\n",
    "            table2_td = table2[i].find_all('td')\n",
    "        except:\n",
    "            table2_td = None\n",
    "\n",
    "        u[table2_td[0].text] = table2_td[1].text\n",
    "        l = {}\n",
    "    return u"
   ]
  },
  {
   "cell_type": "code",
   "execution_count": 15,
   "metadata": {},
   "outputs": [
    {
     "name": "stdout",
     "output_type": "stream",
     "text": [
      "{'Name': 'AAPL', 'Current Price': '497.48', 'Previous Close': '473.10', 'Open': '477.05', 'Bid': '498.95 x 900', 'Ask': '498.97 x 1000', \"Day's Range\": '477.00 - 499.47', '52 Week Range': '201.00 - 499.47', 'Volume': '84,513,660', 'Avg. Volume': '36,780,934', 'Market Cap': '2.127T', 'Beta (5Y Monthly)': '1.23', 'PE Ratio (TTM)': '37.73', 'EPS (TTM)': '13.19', 'Earnings Date': 'Oct 28, 2020 - Nov 02, 2020', 'Forward Dividend & Yield': '3.28 (0.69%)', 'Ex-Dividend Date': 'Aug 07, 2020', '1y Target Est': '425.17'}\n"
     ]
    }
   ],
   "source": [
    "u = parseStock('AAPL')\n",
    "print(u)"
   ]
  },
  {
   "cell_type": "code",
   "execution_count": 17,
   "metadata": {},
   "outputs": [],
   "source": [
    "def getRevenue(symbol, current = True):\n",
    "    '''\n",
    "    Here is a function that will return the last reported yearly\n",
    "    revenue for the company that is given by the symbol. Returns a\n",
    "    floating point number that is given to the user. \n",
    "    Note: Number from Yahoo Finance is given in thousands for clarity\n",
    "    \n",
    "    @PARAM:\n",
    "        - symbol: the symbol of the stock that we want to get (ex. AAPL for Apple)\n",
    "    @RETURN:\n",
    "        - num_revenue: the numerical revenue of the company (in floating point)\n",
    "    '''\n",
    "    fin_url = 'https://finance.yahoo.com/quote/' + symbol + '/financials?p=' + symbol\n",
    "    finPage = urlopen(fin_url)\n",
    "    finSoup = BeautifulSoup(finPage,'html.parser')\n",
    "    revenue = finSoup.find('div', \n",
    "                           {'class':\n",
    "                            \"Ta(c) Py(6px) Bxz(bb) BdB Bdc($seperatorColor) Miw(120px) Miw(140px)--pnclg Bgc($lv1BgColor) fi-row:h_Bgc($hoverBgColor) D(tbc)\"}\n",
    "                          ).find('span').text\n",
    "    num_revenue = float(revenue.replace(\",\", \"\"))\n",
    "    return num_revenue * 1000"
   ]
  },
  {
   "cell_type": "code",
   "execution_count": 14,
   "metadata": {},
   "outputs": [
    {
     "data": {
      "text/plain": [
       "25708000000.0"
      ]
     },
     "execution_count": 14,
     "metadata": {},
     "output_type": "execute_result"
    }
   ],
   "source": [
    "getRevenue('TSLA')"
   ]
  },
  {
   "cell_type": "code",
   "execution_count": 21,
   "metadata": {},
   "outputs": [],
   "source": [
    "def getGrossProfit(symbol):\n",
    "    fin_url = 'https://finance.yahoo.com/quote/' + symbol + '/financials?p=' + symbol\n",
    "    finPage = urlopen(fin_url)\n",
    "    finSoup = BeautifulSoup(finPage,'html.parser')\n",
    "    profit = finSoup.find_all('div',\n",
    "                          {'class' : \"Ta(c) Py(6px) Bxz(bb) BdB Bdc($seperatorColor) Miw(120px) Miw(140px)--pnclg Bgc($lv1BgColor) fi-row:h_Bgc($hoverBgColor) D(tbc)\"}\n",
    "                         ).find('span').text\n",
    "    num_profit = float(profit.replace(\",\", \"\"))\n",
    "    return num_profit * 1000"
   ]
  },
  {
   "cell_type": "code",
   "execution_count": 30,
   "metadata": {},
   "outputs": [],
   "source": [
    "fin_url = 'https://finance.yahoo.com/quote/' + 'AAPL' + '/financials?p=' + 'AAPL'\n",
    "finPage = urlopen(fin_url)\n",
    "finSoup = BeautifulSoup(finPage,'html.parser')\n",
    "profit = finSoup.find_all('div',\n",
    "                          {'class' : \"Ta(c) Py(6px) Bxz(bb) BdB Bdc($seperatorColor) Miw(120px) Miw(140px)--pnclg Bgc($lv1BgColor) fi-row:h_Bgc($hoverBgColor) D(tbc)\"}\n",
    "                         )"
   ]
  },
  {
   "cell_type": "code",
   "execution_count": 34,
   "metadata": {},
   "outputs": [
    {
     "data": {
      "text/plain": [
       "<div class=\"Ta(c) Py(6px) Bxz(bb) BdB Bdc($seperatorColor) Miw(120px) Miw(140px)--pnclg Bgc($lv1BgColor) fi-row:h_Bgc($hoverBgColor) D(tbc)\" data-reactid=\"77\" data-test=\"fin-col\"><span data-reactid=\"78\">273,857,000</span></div>"
      ]
     },
     "execution_count": 34,
     "metadata": {},
     "output_type": "execute_result"
    }
   ],
   "source": [
    "profit[0]"
   ]
  },
  {
   "cell_type": "code",
   "execution_count": 32,
   "metadata": {},
   "outputs": [
    {
     "data": {
      "text/plain": [
       "<div class=\"Ta(c) Py(6px) Bxz(bb) BdB Bdc($seperatorColor) Miw(120px) Miw(140px)--pnclg Bgc($lv1BgColor) fi-row:h_Bgc($hoverBgColor) D(tbc)\" data-reactid=\"77\" data-test=\"fin-col\"><span data-reactid=\"78\">273,857,000</span></div>"
      ]
     },
     "execution_count": 32,
     "metadata": {},
     "output_type": "execute_result"
    }
   ],
   "source": []
  },
  {
   "cell_type": "code",
   "execution_count": null,
   "metadata": {},
   "outputs": [],
   "source": []
  }
 ],
 "metadata": {
  "kernelspec": {
   "display_name": "Python 3",
   "language": "python",
   "name": "python3"
  },
  "language_info": {
   "codemirror_mode": {
    "name": "ipython",
    "version": 3
   },
   "file_extension": ".py",
   "mimetype": "text/x-python",
   "name": "python",
   "nbconvert_exporter": "python",
   "pygments_lexer": "ipython3",
   "version": "3.7.7"
  }
 },
 "nbformat": 4,
 "nbformat_minor": 4
}
